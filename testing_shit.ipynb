{
 "cells": [
  {
   "cell_type": "code",
   "execution_count": 8,
   "metadata": {
    "collapsed": false
   },
   "outputs": [
    {
     "name": "stdout",
     "output_type": "stream",
     "text": [
      "shit\n",
      "sys.version_info(major=2, minor=7, micro=12, releaselevel='final', serial=0)\n"
     ]
    }
   ],
   "source": [
    "\n",
    "import json\n",
    "from __future__ import print_function\n",
    "from __future__ import absolute_import\n",
    "from __future__ import division\n",
    "import numpy as np\n",
    "import matplotlib.pyplot as plt\n",
    "\n",
    "\n",
    "import sys\n",
    "if sys.version_info[0] < 3:\n",
    "    print('shit')\n",
    "    print(sys.version_info)\n",
    "\n",
    "val_file = './datasets/merged_val.npy'\n",
    "val_json = './datasets/merged_val.json'\n",
    "train_file = './datasets/merged_train.npy'\n",
    "train_json = './datasets/merged_train.json'"
   ]
  },
  {
   "cell_type": "code",
   "execution_count": 2,
   "metadata": {
    "collapsed": true
   },
   "outputs": [],
   "source": [
    "def print_corpus(corpus):\n",
    "    for index,word in enumerate(corpus):\n",
    "        print(str(word.encode('utf-8')))\n",
    "        \n",
    "def gather_captions(image_captions):\n",
    "    corpus = set()\n",
    "    print(\"Images to parse %d\"%(len(image_captions)))\n",
    "    for img_index,img in enumerate(image_captions):\n",
    "        url = image_captions[img_index][0]\n",
    "        for i,captions in enumerate(image_captions[img_index][1]):\n",
    "            for word in captions:\n",
    "                corpus.add(word)\n",
    "    return corpus"
   ]
  },
  {
   "cell_type": "code",
   "execution_count": 7,
   "metadata": {
    "collapsed": false
   },
   "outputs": [],
   "source": [
    "\n",
    "\n",
    "with open(train_json) as f:\n",
    "    train = json.load(f)\n",
    "\n",
    "with open(val_json) as f:\n",
    "    val = json.load(f)\n",
    " "
   ]
  },
  {
   "cell_type": "code",
   "execution_count": 4,
   "metadata": {
    "collapsed": false
   },
   "outputs": [
    {
     "name": "stdout",
     "output_type": "stream",
     "text": [
      "Images to parse 143161\n"
     ]
    }
   ],
   "source": [
    "corpus = gather_captions(train)\n",
    "\n",
    "# print_corpus(corpus)"
   ]
  },
  {
   "cell_type": "code",
   "execution_count": 9,
   "metadata": {
    "collapsed": false
   },
   "outputs": [
    {
     "name": "stdout",
     "output_type": "stream",
     "text": [
      "(143161, 4096)\n"
     ]
    }
   ],
   "source": [
    "with open(train_file) as f:\n",
    "    train_feat = np.load(f)\n",
    "print(train_feat.shape)"
   ]
  },
  {
   "cell_type": "code",
   "execution_count": 16,
   "metadata": {
    "collapsed": false
   },
   "outputs": [
    {
     "name": "stdout",
     "output_type": "stream",
     "text": [
      "[ 0.          0.          0.          0.          0.          0.\n",
      "  1.44243264  0.          0.          0.          0.22472608  4.58540392\n",
      "  0.          0.          0.          0.51754153  0.          0.          0.\n",
      "  0.22540632  0.          0.          0.          0.          0.89967942\n",
      "  1.27485955  0.          0.          0.          1.35832596  0.          0.\n",
      "  1.22186315  1.95569074  2.88964033  0.26644671  0.          0.\n",
      "  1.77635956  0.          0.43984458  3.02573991  1.25979078  0.          0.\n",
      "  0.          0.          0.          0.          0.47229177  1.14805961\n",
      "  0.          0.          0.87265551  0.          0.          0.\n",
      "  0.19226834  1.82997417  0.          0.          0.70440394  0.          0.\n",
      "  0.          0.          0.83096421  0.          0.          0.\n",
      "  0.24078342  0.76708287  1.44332278  0.          0.          0.\n",
      "  0.33199877  0.05447251  0.          0.          0.          0.          0.\n",
      "  0.          0.          0.          0.          2.16550827  0.\n",
      "  0.10306072  0.          0.          0.          0.          0.\n",
      "  1.65789866  0.          0.          0.          0.          0.\n",
      "  0.32742643  1.34921813  0.2887066   0.          0.          0.\n",
      "  2.22953796  0.          0.          0.          0.0479852   0.9785912   0.\n",
      "  0.85137576  1.14832973  0.          0.          0.          1.74452174\n",
      "  0.4582825   0.          0.          0.          0.72650021  0.          0.\n",
      "  2.83801198  0.          0.08968922  0.01667041  0.88523275  0.          0.\n",
      "  0.          0.          1.98205161  0.          3.1807375   0.41303074\n",
      "  0.          0.          0.52976578  1.40597749  0.          0.77812386\n",
      "  0.          0.70555651  1.39764225  0.62346584  3.43277121  0.          0.\n",
      "  0.          1.50486064  1.51623142  0.          0.          0.          0.\n",
      "  0.          0.          0.          3.51996279  0.09649551  0.          0.\n",
      "  1.18204641  0.          0.          0.          0.7662971   0.\n",
      "  1.05997992  0.          2.67179489  0.65929508  0.          1.79069066\n",
      "  0.29237252  0.84141994  1.94337654  0.          0.          0.88445503\n",
      "  0.          0.          0.          1.74981642  0.          0.83435309\n",
      "  1.22631288  0.          0.53106558  0.          0.          0.          0.\n",
      "  0.        ]\n"
     ]
    }
   ],
   "source": [
    "print(train_feat[0][1:200])"
   ]
  },
  {
   "cell_type": "code",
   "execution_count": null,
   "metadata": {
    "collapsed": true
   },
   "outputs": [],
   "source": []
  }
 ],
 "metadata": {
  "anaconda-cloud": {},
  "kernelspec": {
   "display_name": "Python [conda root]",
   "language": "python",
   "name": "conda-root-py"
  },
  "language_info": {
   "codemirror_mode": {
    "name": "ipython",
    "version": 2
   },
   "file_extension": ".py",
   "mimetype": "text/x-python",
   "name": "python",
   "nbconvert_exporter": "python",
   "pygments_lexer": "ipython2",
   "version": "2.7.12"
  }
 },
 "nbformat": 4,
 "nbformat_minor": 1
}
