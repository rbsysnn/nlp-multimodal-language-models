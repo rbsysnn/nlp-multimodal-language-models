{
 "cells": [
  {
   "cell_type": "code",
   "execution_count": 7,
   "metadata": {
    "collapsed": false
   },
   "outputs": [
    {
     "name": "stdout",
     "output_type": "stream",
     "text": [
      "shit\n",
      "sys.version_info(major=2, minor=7, micro=12, releaselevel='final', serial=0)\n"
     ]
    }
   ],
   "source": [
    "\n",
    "import json\n",
    "from __future__ import print_function\n",
    "from __future__ import absolute_import\n",
    "from __future__ import division\n",
    "import numpy as np\n",
    "import matplotlib.pyplot as plt\n",
    "\n",
    "\n",
    "import sys\n",
    "if sys.version_info[0] < 3:\n",
    "    print('shit')\n",
    "    print(sys.version_info)"
   ]
  },
  {
   "cell_type": "code",
   "execution_count": 10,
   "metadata": {
    "collapsed": true
   },
   "outputs": [],
   "source": [
    "def print_corpus(corpus):\n",
    "    for index,word in enumerate(corpus):\n",
    "        print(str(word.encode('utf-8')))\n",
    "        \n",
    "def gather_captions(image_captions):\n",
    "    corpus = set()\n",
    "    print(\"Images to parse %d\"%(len(image_captions)))\n",
    "    for img_index,img in enumerate(image_captions):\n",
    "        url = image_captions[img_index][0]\n",
    "        for i,captions in enumerate(image_captions[img_index][1]):\n",
    "            for word in captions:\n",
    "                corpus.add(word)\n",
    "    return corpus"
   ]
  },
  {
   "cell_type": "code",
   "execution_count": 12,
   "metadata": {
    "collapsed": false
   },
   "outputs": [],
   "source": [
    "val_file = 'merged_val.npy'\n",
    "val_json = './datasets/merged_val.json'\n",
    "train_file = 'merged_train.npy'\n",
    "train_json = './datasets/merged_train.json'\n",
    "\n",
    "with open(train_json) as f:\n",
    "    train = json.load(f)\n",
    "\n",
    "with open(val_json) as f:\n",
    "    val = json.load(f)\n",
    " "
   ]
  },
  {
   "cell_type": "code",
   "execution_count": 19,
   "metadata": {
    "collapsed": false
   },
   "outputs": [
    {
     "name": "stdout",
     "output_type": "stream",
     "text": [
      "[[u'A', u'white', u'sink', u'sitting', u'next', u'to', u'a', u'toilet', u'in', u'a', u'bathroom', u'.'], [u'A', u'bathroom', u'has', u'a', u'sink', u',', u'toilet', u'and', u'an', u'orange', u'bucket', u'in', u'it', u'.'], [u'A', u'very', u'dingy', u'looking', u'tiled', u'bathroom', u'with', u'a', u'sink', u'and', u'toilet', u'.'], [u'A', u'small', u'bathroom', u'with', u'a', u'commode', u'and', u'sink', u',', u'and', u'empty', u'corner', u'.'], [u'A', u'bathroom', u'scene', u'looking', u'at', u'the', u'toilet', u'and', u'the', u'sink', u'.']]\n"
     ]
    }
   ],
   "source": [
    "# corpus = gather_captions(image_captions)\n",
    "print(train[1][1])\n",
    "from sklearn.preprocessing import OneHotEncoder\n",
    "enc = OneHotEncoder()\n",
    "# print_corpus(corpus)"
   ]
  },
  {
   "cell_type": "code",
   "execution_count": 6,
   "metadata": {
    "collapsed": false
   },
   "outputs": [
    {
     "name": "stdout",
     "output_type": "stream",
     "text": [
      "44113\n"
     ]
    }
   ],
   "source": [
    "print(len(corpus))\n"
   ]
  },
  {
   "cell_type": "code",
   "execution_count": null,
   "metadata": {
    "collapsed": true
   },
   "outputs": [],
   "source": []
  }
 ],
 "metadata": {
  "anaconda-cloud": {},
  "kernelspec": {
   "display_name": "Python [conda root]",
   "language": "python",
   "name": "conda-root-py"
  },
  "language_info": {
   "codemirror_mode": {
    "name": "ipython",
    "version": 2
   },
   "file_extension": ".py",
   "mimetype": "text/x-python",
   "name": "python",
   "nbconvert_exporter": "python",
   "pygments_lexer": "ipython2",
   "version": "2.7.12"
  }
 },
 "nbformat": 4,
 "nbformat_minor": 1
}
